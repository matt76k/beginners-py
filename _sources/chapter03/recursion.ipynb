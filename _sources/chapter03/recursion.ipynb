{
 "cells": [
  {
   "cell_type": "markdown",
   "id": "e9713d37",
   "metadata": {},
   "source": [
    "再帰関数\n",
    "=======\n",
    "\n",
    "再帰関数は初心者にとっては難しい概念ですが、\n",
    "ステップバイステップで理解すれば、それほど難しくはありません。\n",
    "\n",
    "まず、関数から関数を呼べることを確認します。"
   ]
  },
  {
   "cell_type": "code",
   "execution_count": 1,
   "id": "e2de3b7d",
   "metadata": {},
   "outputs": [
    {
     "name": "stdout",
     "output_type": "stream",
     "text": [
      "ネコ\n",
      "ネコ\n",
      "コネコ\n"
     ]
    }
   ],
   "source": [
    "def neko():\n",
    "    print('ネコ')\n",
    "\n",
    "def koneko():\n",
    "    print('コネコ')\n",
    "\n",
    "def main():\n",
    "    neko()\n",
    "    neko()\n",
    "    koneko()\n",
    "\n",
    "main()"
   ]
  },
  {
   "cell_type": "markdown",
   "id": "1c53d007",
   "metadata": {},
   "source": [
    "では、mainから`neko`だけを呼び出して、同じ出力を得るにはどうしたらよいでしょうか。"
   ]
  },
  {
   "cell_type": "code",
   "execution_count": 2,
   "id": "9f962ec7",
   "metadata": {},
   "outputs": [
    {
     "name": "stdout",
     "output_type": "stream",
     "text": [
      "ネコ\n"
     ]
    }
   ],
   "source": [
    "def main():\n",
    "    neko() # mainからは`neko`だけを呼び出す\n",
    "\n",
    "main()"
   ]
  },
  {
   "cell_type": "markdown",
   "id": "aabf27f4",
   "metadata": {},
   "source": [
    "解答の1つを示します。"
   ]
  },
  {
   "cell_type": "code",
   "execution_count": 3,
   "id": "d0af5b40",
   "metadata": {},
   "outputs": [
    {
     "name": "stdout",
     "output_type": "stream",
     "text": [
      "ネコ\n",
      "ネコ\n",
      "コネコ\n"
     ]
    }
   ],
   "source": [
    "def neko():\n",
    "    print('ネコ')\n",
    "    print('ネコ')\n",
    "    koneko()\n",
    "\n",
    "def main():\n",
    "    neko()\n",
    "\n",
    "main()"
   ]
  },
  {
   "cell_type": "markdown",
   "id": "95fd8e2a",
   "metadata": {},
   "source": [
    "これは1つの例であり、他にも様々な方法が考えつくでしょう。\n",
    "ここで学びたいのは、関数から関数を呼べるということです。\n",
    "\n",
    "次に、1つの関数で同じような出力をする関数を作ります。"
   ]
  },
  {
   "cell_type": "code",
   "execution_count": 4,
   "id": "7712f9c2",
   "metadata": {},
   "outputs": [
    {
     "name": "stdout",
     "output_type": "stream",
     "text": [
      "ネコ\n",
      "ネコ\n",
      "コネコ\n"
     ]
    }
   ],
   "source": [
    "def neko_or_koneko(b):\n",
    "    if b == 0:\n",
    "        print('コネコ')\n",
    "    else:\n",
    "        print('ネコ')\n",
    "\n",
    "neko_or_koneko(2)\n",
    "neko_or_koneko(1)\n",
    "neko_or_koneko(0)"
   ]
  },
  {
   "cell_type": "markdown",
   "id": "f832320f",
   "metadata": {},
   "source": [
    "この関数は、0を渡したら'コネコ'を、0以外は'ネコ'を表示します。\n",
    "このように与える引数で関数の動作を変えることができます。\n",
    "\n",
    "これを`for`文で書くとどうなるでしょうか？\n",
    "前のコードを見て、与えてる引数の値がカウントダウンされていることに気づきましたか？"
   ]
  },
  {
   "cell_type": "code",
   "execution_count": 5,
   "id": "c315e8c1",
   "metadata": {},
   "outputs": [
    {
     "name": "stdout",
     "output_type": "stream",
     "text": [
      "ネコ\n",
      "ネコ\n",
      "コネコ\n"
     ]
    }
   ],
   "source": [
    "for i in range(2, -1, -1):\n",
    "    neko_or_koneko(i)"
   ]
  },
  {
   "cell_type": "markdown",
   "id": "89a90ad5",
   "metadata": {},
   "source": [
    "前のプログラムがスッキリしましたね。\n",
    "0が終わりを意味しているわけです。\n",
    "カウントダウンという考えではなくカウントアップにしてしまうと、\n",
    "どこで終わるかの数値を指定しないといけなくなるため、関数に余分な引数を与える必要が出てきてしまいます。\n",
    "\n",
    "さらに`for`文まで無くしてみましょう。\n",
    "そのためには、`neko_or_koneko`の中で`neko_or_koneko`を呼び出すようにします。\n",
    "このように、関数の中で自分自身を呼び出すことを再帰呼び出しといい、そのような関数を**再帰関数**といいます。"
   ]
  },
  {
   "cell_type": "code",
   "execution_count": 6,
   "id": "dd51f437",
   "metadata": {},
   "outputs": [
    {
     "name": "stdout",
     "output_type": "stream",
     "text": [
      "ネコ\n",
      "ネコ\n",
      "コネコ\n"
     ]
    }
   ],
   "source": [
    "def neko_or_koneko(b):\n",
    "    if b == 0:\n",
    "        print('コネコ')\n",
    "    else:\n",
    "        print('ネコ')\n",
    "        neko_or_koneko(b - 1)\n",
    "\n",
    "neko_or_koneko(2)"
   ]
  },
  {
   "cell_type": "markdown",
   "id": "ef190430",
   "metadata": {},
   "source": [
    "再帰関数の基本的な構造は、以下の通りです。\n",
    "\n",
    "```python\n",
    "def func(n):\n",
    "    if n == 0: # 終了\n",
    "        return val\n",
    "    else: # 継続\n",
    "        #ここで何かして\n",
    "        func(n - 1) # 自分自身を呼び出す\n",
    "```\n",
    "\n",
    "データ構造やアルゴリズムによっては、再帰関数が最も自然な表現方法になります。\n",
    "\n",
    "たとえば、[フィボナッチ数列](https://ja.wikipedia.org/wiki/%E3%83%95%E3%82%A3%E3%83%9C%E3%83%8A%E3%83%83%E3%83%81%E6%95%B0)です。"
   ]
  },
  {
   "cell_type": "code",
   "execution_count": 7,
   "id": "17e61875",
   "metadata": {},
   "outputs": [
    {
     "name": "stdout",
     "output_type": "stream",
     "text": [
      "[0, 1, 1, 2, 3, 5, 8, 13, 21, 34]\n"
     ]
    }
   ],
   "source": [
    "def fib(n):\n",
    "    if n == 0:\n",
    "        return 0\n",
    "    elif n == 1:\n",
    "        return 1\n",
    "    else:\n",
    "        return fib(n - 1) + fib(n - 2)\n",
    "\n",
    "fib_list = [fib(i) for i in range(10)]\n",
    "print(fib_list)"
   ]
  },
  {
   "cell_type": "markdown",
   "id": "d52a11ed",
   "metadata": {},
   "source": [
    "では、再帰関数に慣れるために、以下の問題をやってみましょう。\n",
    "\n",
    "## 階乗を計算する\n",
    "$n! = n \\times (n-1) \\times (n-2) \\times \\cdots \\times 1$\n",
    "を計算する再帰関数`factorial`を作りましょう。\n",
    "\n",
    "<details>\n",
    "<summary> 回答例 </summary>\n",
    "\n",
    "```python\n",
    "def factorial(n):\n",
    "    if n == 0 or n == 1:\n",
    "        return 1\n",
    "    else:\n",
    "        return n * factorial(n - 1)\n",
    "\n",
    "print(factorial(5))\n",
    "```\n",
    "\n",
    "</details>\n",
    "\n",
    "## 数値の各桁の和を求める\n",
    "\n",
    "整数の各桁の数字を足し合わせる再帰関数`digit_sum`を作りましょう。\n",
    "例えば、$123 \\rightarrow 1+2+3 = 6$ となります。\n",
    "\n",
    "<details>\n",
    "<summary> 回答例 </summary>\n",
    "\n",
    "```python\n",
    "def digit_sum(n):\n",
    "    if n < 10:\n",
    "        return n\n",
    "    else:\n",
    "        return n % 10 + digit_sum(n // 10)\n",
    "\n",
    "print(digit_sum(123))\n",
    "print(digit_sum(9876))\n",
    "```\n",
    "\n",
    "</details>\n",
    "\n",
    "## リストの要素の合計を求める\n",
    "\n",
    "リストの全要素の合計を再帰的に計算する関数`list_sum`を作りましょう。\n",
    "\n",
    "<details>\n",
    "<summary> 回答例 </summary>\n",
    "\n",
    "```python\n",
    "def list_sum(lst):\n",
    "    if len(lst) == 0:\n",
    "        return 0\n",
    "    else:\n",
    "        return lst[0] + list_sum(lst[1:])\n",
    "\n",
    "print(list_sum([1, 2, 3, 4, 5]))\n",
    "```\n",
    "\n",
    "</details>\n",
    "\n",
    "## 文字列を逆順にする\n",
    "\n",
    "文字列を逆順にして返す再帰関数`reverse_string`を作りましょう。\n",
    "\n",
    "<details>\n",
    "<summary> 回答例 </summary>\n",
    "\n",
    "```python\n",
    "def reverse_string(s):\n",
    "    if len(s) <= 1:\n",
    "        return s\n",
    "    else:\n",
    "        return s[-1] + reverse_string(s[:-1])\n",
    "\n",
    "print(reverse_string(\"Python\"))\n",
    "```\n",
    "\n",
    "</details>\n",
    "\n",
    "## べき乗を計算する\n",
    "`x` の `n` 乗を再帰的に計算する関数`power`を作りましょう。\n",
    "\n",
    "<details>\n",
    "<summary> 回答例 </summary>\n",
    "\n",
    "```python\n",
    "def power(x, n):\n",
    "    if n == 0:\n",
    "        return 1\n",
    "    else:\n",
    "        return x * power(x, n - 1)\n",
    "\n",
    "print(power(2, 5))\n",
    "print(power(3, 4))\n",
    "```\n",
    "\n",
    "</details>\n",
    "\n",
    "## 最大公約数を求める\n",
    "ユークリッドの互除法を使って、2つの数の最大公約数を求める再帰関数`gcd`を作りましょう。\n",
    "\n",
    "<details>\n",
    "<summary> 回答例 </summary>\n",
    "\n",
    "```python\n",
    "def gcd(a, b):\n",
    "    if b == 0:\n",
    "        return a\n",
    "    else:\n",
    "        return gcd(b, a % b)\n",
    "\n",
    "print(gcd(48, 18))\n",
    "print(gcd(100, 25))\n",
    "```\n",
    "\n",
    "</details>\n",
    "\n",
    "## 回文かどうかを判定する\n",
    "\n",
    "文字列が回文（前から読んでも後ろから読んでも同じ）かどうかを判定する再帰関数`is_palindrome`を作りましょう。\n",
    "\n",
    "<details>\n",
    "<summary> 回答例 </summary>\n",
    "\n",
    "```python\n",
    "def is_palindrome(s):\n",
    "    if len(s) <= 1:\n",
    "        return True\n",
    "    elif s[0] != s[-1]:\n",
    "        return False\n",
    "    else:\n",
    "        return is_palindrome(s[1:-1])\n",
    "\n",
    "print(is_palindrome(\"hello\"))\n",
    "print(is_palindrome(\"きんにくぼでぃでぼくにんき\"))\n",
    "```\n",
    "\n",
    "</details>\n",
    "\n",
    "## 2進数変換を行う\n",
    "\n",
    "10進数を2進数の文字列に変換する再帰関数`to_binary`を作成してください。\n",
    "\n",
    "<details>\n",
    "<summary> 回答例 </summary>\n",
    "\n",
    "```python\n",
    "def to_binary(n):\n",
    "    if n == 0:\n",
    "        return \"0\"\n",
    "    elif n == 1:\n",
    "        return \"1\"\n",
    "    else:\n",
    "        return to_binary(n // 2) + str(n % 2)\n",
    "print(to_binary(10))  # \"1010\"が表示される\n",
    "print(to_binary(7))   # \"111\"が表示される\n",
    "```\n",
    "\n",
    "</details>"
   ]
  }
 ],
 "metadata": {
  "jupytext": {
   "formats": "md:myst",
   "text_representation": {
    "extension": ".md",
    "format_name": "myst",
    "format_version": 0.13,
    "jupytext_version": "1.11.5"
   }
  },
  "kernelspec": {
   "display_name": "Python 3",
   "language": "python",
   "name": "python3"
  },
  "language_info": {
   "codemirror_mode": {
    "name": "ipython",
    "version": 3
   },
   "file_extension": ".py",
   "mimetype": "text/x-python",
   "name": "python",
   "nbconvert_exporter": "python",
   "pygments_lexer": "ipython3",
   "version": "3.12.3"
  },
  "source_map": [
   13,
   22,
   35,
   39,
   44,
   48,
   58,
   65,
   75,
   83,
   86,
   97,
   106,
   123,
   134
  ]
 },
 "nbformat": 4,
 "nbformat_minor": 5
}