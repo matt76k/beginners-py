{
 "cells": [
  {
   "cell_type": "markdown",
   "id": "45789761",
   "metadata": {},
   "source": [
    "関数\n",
    "====\n",
    "\n",
    "すべてのプログラムは、順次、分岐、反復の3つから構成されています。\n",
    "それ以外はプログラムを分かりやすく便利にする機能です。\n",
    "\n",
    "わかりやすく便利にする機能の1つに**関数**があります。\n",
    "この章では**関数**の作り方と使い方の両方について学びます。"
   ]
  }
 ],
 "metadata": {
  "jupytext": {
   "formats": "md:myst",
   "text_representation": {
    "extension": ".md",
    "format_name": "myst",
    "format_version": 0.13,
    "jupytext_version": "1.11.5"
   }
  },
  "kernelspec": {
   "display_name": "Python 3",
   "language": "python",
   "name": "python3"
  },
  "source_map": [
   13
  ]
 },
 "nbformat": 4,
 "nbformat_minor": 5
}