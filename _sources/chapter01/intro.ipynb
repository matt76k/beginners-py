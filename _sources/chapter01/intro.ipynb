{
 "cells": [
  {
   "cell_type": "markdown",
   "id": "6e5da5db",
   "metadata": {},
   "source": [
    "プログラミングの基本\n",
    "=================\n",
    "\n",
    "すべてのプログラムは、\n",
    "\n",
    "- 順次\n",
    "- 分岐\n",
    "- 反復\n",
    "  \n",
    "の3つから構成されます。\n",
    "つまり、この3つを使いこなせるようになれば、プログラムを書けるようになったということです。\n",
    "\n",
    "プログラミングはコンピュータへの指示になります。\n",
    "あれをやった後にこれしてのような順番に指示を出すことを**順次**、\n",
    "あれがない場合はこれをやってというような、条件によって指示を出すことを**分岐**、\n",
    "あれが達成するまでこれを繰り返してというような、繰り返しの指示を出すことを**反復**といいます。\n",
    "\n",
    "専門的にはこれを**制御**といい、\n",
    "プログラミングでは制御の流れをコンピュータに指示していきます。"
   ]
  }
 ],
 "metadata": {
  "jupytext": {
   "formats": "md:myst",
   "text_representation": {
    "extension": ".md",
    "format_name": "myst",
    "format_version": 0.13,
    "jupytext_version": "1.11.5"
   }
  },
  "kernelspec": {
   "display_name": "Python 3",
   "language": "python",
   "name": "python3"
  },
  "source_map": [
   13
  ]
 },
 "nbformat": 4,
 "nbformat_minor": 5
}